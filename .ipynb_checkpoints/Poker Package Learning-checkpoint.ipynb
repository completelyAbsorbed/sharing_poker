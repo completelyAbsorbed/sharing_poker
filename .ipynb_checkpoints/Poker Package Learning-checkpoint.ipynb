{
 "cells": [
  {
   "cell_type": "markdown",
   "id": "9c754e7c",
   "metadata": {},
   "source": [
    "# Poker Package - Learning \n",
    "\n",
    "see : [Documentation](https://poker.readthedocs.io/en/latest/)\n",
    "\n",
    "in this notebook I will dive into the package in an effort to learn it.\n",
    "\n",
    "lots of code is copied and/or adapted from the documentation."
   ]
  },
  {
   "cell_type": "markdown",
   "id": "af457944",
   "metadata": {},
   "source": [
    "***\n",
    "# Basic Operations\n",
    "[link to documentation](https://poker.readthedocs.io/en/latest/basic.html)\n",
    "***"
   ]
  },
  {
   "cell_type": "markdown",
   "id": "0adc4abc",
   "metadata": {},
   "source": [
    "## Suit"
   ]
  },
  {
   "cell_type": "code",
   "execution_count": 34,
   "id": "2f3247a7",
   "metadata": {},
   "outputs": [
    {
     "data": {
      "text/plain": [
       "[Suit('♣'), Suit('♦'), Suit('♥'), Suit('♠')]"
      ]
     },
     "execution_count": 34,
     "metadata": {},
     "output_type": "execute_result"
    }
   ],
   "source": [
    "# enumeration of suits\n",
    "\n",
    "from poker import Suit\n",
    "\n",
    "list(Suit)"
   ]
  },
  {
   "cell_type": "code",
   "execution_count": 20,
   "id": "2ee4fb11",
   "metadata": {},
   "outputs": [
    {
     "name": "stdout",
     "output_type": "stream",
     "text": [
      "(Suit('♣'), Suit('♦'), Suit('♥'), Suit('♠'))\n"
     ]
    }
   ],
   "source": [
    "# suits are comparable\n",
    "\n",
    "Suit.CLUBS < Suit.DIAMONDS # True\n",
    "Suit.CLUBS < Suit.SPADES # True\n",
    "Suit.CLUBS < Suit.HEARTS # True\n",
    "Suit.CLUBS < Suit.CLUBS # False\n",
    "\n",
    "Suit.DIAMONDS < Suit.DIAMONDS # False\n",
    "Suit.DIAMONDS < Suit.SPADES # True\n",
    "Suit.DIAMONDS < Suit.HEARTS # True\n",
    "Suit.DIAMONDS < Suit.CLUBS # False\n",
    "\n",
    "Suit.SPADES < Suit.DIAMONDS # False\n",
    "Suit.SPADES < Suit.SPADES # False\n",
    "Suit.SPADES < Suit.HEARTS # False\n",
    "Suit.SPADES < Suit.CLUBS # False\n",
    "\n",
    "Suit.HEARTS < Suit.DIAMONDS # False\n",
    "Suit.HEARTS < Suit.SPADES # True\n",
    "Suit.HEARTS < Suit.HEARTS # False\n",
    "Suit.HEARTS < Suit.CLUBS # False\n",
    "\n",
    "order_suits = (Suit.CLUBS,\n",
    "               Suit.DIAMONDS,\n",
    "               Suit.HEARTS,\n",
    "               Suit.SPADES)\n",
    "\n",
    "print(order_suits)"
   ]
  },
  {
   "cell_type": "markdown",
   "id": "458ef20c",
   "metadata": {},
   "source": [
    "## Rank"
   ]
  },
  {
   "cell_type": "code",
   "execution_count": 35,
   "id": "da0411b5",
   "metadata": {},
   "outputs": [
    {
     "data": {
      "text/plain": [
       "[Rank('2'),\n",
       " Rank('3'),\n",
       " Rank('4'),\n",
       " Rank('5'),\n",
       " Rank('6'),\n",
       " Rank('7'),\n",
       " Rank('8'),\n",
       " Rank('9'),\n",
       " Rank('T'),\n",
       " Rank('J'),\n",
       " Rank('Q'),\n",
       " Rank('K'),\n",
       " Rank('A')]"
      ]
     },
     "execution_count": 35,
     "metadata": {},
     "output_type": "execute_result"
    }
   ],
   "source": [
    "# enumeration of ranks\n",
    "from poker import Rank\n",
    "list(Rank)"
   ]
  },
  {
   "cell_type": "code",
   "execution_count": 28,
   "id": "f4e41fc0",
   "metadata": {},
   "outputs": [
    {
     "data": {
      "text/plain": [
       "True"
      ]
     },
     "execution_count": 28,
     "metadata": {},
     "output_type": "execute_result"
    }
   ],
   "source": [
    "# Ranks are comparable\n",
    "\n",
    "Rank(2) < Rank('A') # True\n",
    "Rank('2') < Rank('A') # True"
   ]
  },
  {
   "cell_type": "code",
   "execution_count": 33,
   "id": "54674ba7",
   "metadata": {},
   "outputs": [
    {
     "data": {
      "text/plain": [
       "Rank('6')"
      ]
     },
     "execution_count": 33,
     "metadata": {},
     "output_type": "execute_result"
    }
   ],
   "source": [
    "# making a random Rank\n",
    "\n",
    "Rank.make_random()"
   ]
  },
  {
   "cell_type": "markdown",
   "id": "4be14f9d",
   "metadata": {},
   "source": [
    "## Card"
   ]
  },
  {
   "cell_type": "code",
   "execution_count": 37,
   "id": "b462ab92",
   "metadata": {},
   "outputs": [
    {
     "data": {
      "text/plain": [
       "Card('K♣')"
      ]
     },
     "execution_count": 37,
     "metadata": {},
     "output_type": "execute_result"
    }
   ],
   "source": [
    "from poker import Card\n",
    "\n",
    "# make a random Card\n",
    "Card.make_random()"
   ]
  },
  {
   "cell_type": "code",
   "execution_count": 40,
   "id": "d533f188",
   "metadata": {},
   "outputs": [
    {
     "data": {
      "text/plain": [
       "False"
      ]
     },
     "execution_count": 40,
     "metadata": {},
     "output_type": "execute_result"
    }
   ],
   "source": [
    "# cards are comparable\n",
    "Card('As') > Card('Ks') # True\n",
    "Card('Ts') < Card('Tc') # False"
   ]
  },
  {
   "cell_type": "markdown",
   "id": "d93c5900",
   "metadata": {},
   "source": [
    "## Implementing a Deck"
   ]
  },
  {
   "cell_type": "code",
   "execution_count": 44,
   "id": "640f05fc",
   "metadata": {},
   "outputs": [
    {
     "name": "stdout",
     "output_type": "stream",
     "text": [
      "hero : [Card('J♥'), Card('5♥')]\n",
      "opponent : [Card('6♥'), Card('9♣')]\n",
      "flop : [Card('6♦'), Card('T♥'), Card('Q♠')]\n",
      "turn : J♠\n",
      "river : 5♣\n"
     ]
    }
   ],
   "source": [
    "import random\n",
    "from poker import Card\n",
    "\n",
    "# initialize the deck\n",
    "deck = list(Card)\n",
    "\n",
    "# shuffle the deck\n",
    "random.shuffle(deck) # trying to assign this i.e. deck_shuffled = random.shuffle(deck) does not work...\n",
    "\n",
    "# deal hole cards in 1v1\n",
    "hero = [deck.pop() for _ in range(2)]\n",
    "opponent = [deck.pop() for _ in range(2)]\n",
    "\n",
    "# deal flop\n",
    "flop = [deck.pop() for _ in range(3)]\n",
    "\n",
    "# deal turn\n",
    "turn = deck.pop()\n",
    "\n",
    "# deal river\n",
    "river = deck.pop()\n",
    "\n",
    "# construct hand summary\n",
    "print_hand_summary = f\"\"\"hero : {hero}\n",
    "opponent : {opponent}\n",
    "flop : {flop}\n",
    "turn : {turn}\n",
    "river : {river}\"\"\"\n",
    "\n",
    "# print hand summary \n",
    "print(print_hand_summary)"
   ]
  },
  {
   "cell_type": "markdown",
   "id": "321206eb",
   "metadata": {},
   "source": [
    "## Operations with Hand and Combo"
   ]
  },
  {
   "cell_type": "code",
   "execution_count": 45,
   "id": "de0ae290",
   "metadata": {},
   "outputs": [
    {
     "data": {
      "text/plain": [
       "[Hand('32o'),\n",
       " Hand('32s'),\n",
       " Hand('42o'),\n",
       " Hand('42s'),\n",
       " Hand('43o'),\n",
       " Hand('43s'),\n",
       " Hand('52o'),\n",
       " Hand('52s'),\n",
       " Hand('53o'),\n",
       " Hand('53s'),\n",
       " Hand('54o'),\n",
       " Hand('54s'),\n",
       " Hand('62o'),\n",
       " Hand('62s'),\n",
       " Hand('63o'),\n",
       " Hand('63s'),\n",
       " Hand('64o'),\n",
       " Hand('64s'),\n",
       " Hand('65o'),\n",
       " Hand('65s'),\n",
       " Hand('72o'),\n",
       " Hand('72s'),\n",
       " Hand('73o'),\n",
       " Hand('73s'),\n",
       " Hand('74o'),\n",
       " Hand('74s'),\n",
       " Hand('75o'),\n",
       " Hand('75s'),\n",
       " Hand('76o'),\n",
       " Hand('76s'),\n",
       " Hand('82o'),\n",
       " Hand('82s'),\n",
       " Hand('83o'),\n",
       " Hand('83s'),\n",
       " Hand('84o'),\n",
       " Hand('84s'),\n",
       " Hand('85o'),\n",
       " Hand('85s'),\n",
       " Hand('86o'),\n",
       " Hand('86s'),\n",
       " Hand('87o'),\n",
       " Hand('87s'),\n",
       " Hand('92o'),\n",
       " Hand('92s'),\n",
       " Hand('93o'),\n",
       " Hand('93s'),\n",
       " Hand('94o'),\n",
       " Hand('94s'),\n",
       " Hand('95o'),\n",
       " Hand('95s'),\n",
       " Hand('96o'),\n",
       " Hand('96s'),\n",
       " Hand('97o'),\n",
       " Hand('97s'),\n",
       " Hand('98o'),\n",
       " Hand('98s'),\n",
       " Hand('T2o'),\n",
       " Hand('T2s'),\n",
       " Hand('T3o'),\n",
       " Hand('T3s'),\n",
       " Hand('T4o'),\n",
       " Hand('T4s'),\n",
       " Hand('T5o'),\n",
       " Hand('T5s'),\n",
       " Hand('T6o'),\n",
       " Hand('T6s'),\n",
       " Hand('T7o'),\n",
       " Hand('T7s'),\n",
       " Hand('T8o'),\n",
       " Hand('T8s'),\n",
       " Hand('T9o'),\n",
       " Hand('T9s'),\n",
       " Hand('J2o'),\n",
       " Hand('J2s'),\n",
       " Hand('J3o'),\n",
       " Hand('J3s'),\n",
       " Hand('J4o'),\n",
       " Hand('J4s'),\n",
       " Hand('J5o'),\n",
       " Hand('J5s'),\n",
       " Hand('J6o'),\n",
       " Hand('J6s'),\n",
       " Hand('J7o'),\n",
       " Hand('J7s'),\n",
       " Hand('J8o'),\n",
       " Hand('J8s'),\n",
       " Hand('J9o'),\n",
       " Hand('J9s'),\n",
       " Hand('JTo'),\n",
       " Hand('JTs'),\n",
       " Hand('Q2o'),\n",
       " Hand('Q2s'),\n",
       " Hand('Q3o'),\n",
       " Hand('Q3s'),\n",
       " Hand('Q4o'),\n",
       " Hand('Q4s'),\n",
       " Hand('Q5o'),\n",
       " Hand('Q5s'),\n",
       " Hand('Q6o'),\n",
       " Hand('Q6s'),\n",
       " Hand('Q7o'),\n",
       " Hand('Q7s'),\n",
       " Hand('Q8o'),\n",
       " Hand('Q8s'),\n",
       " Hand('Q9o'),\n",
       " Hand('Q9s'),\n",
       " Hand('QTo'),\n",
       " Hand('QTs'),\n",
       " Hand('QJo'),\n",
       " Hand('QJs'),\n",
       " Hand('K2o'),\n",
       " Hand('K2s'),\n",
       " Hand('K3o'),\n",
       " Hand('K3s'),\n",
       " Hand('K4o'),\n",
       " Hand('K4s'),\n",
       " Hand('K5o'),\n",
       " Hand('K5s'),\n",
       " Hand('K6o'),\n",
       " Hand('K6s'),\n",
       " Hand('K7o'),\n",
       " Hand('K7s'),\n",
       " Hand('K8o'),\n",
       " Hand('K8s'),\n",
       " Hand('K9o'),\n",
       " Hand('K9s'),\n",
       " Hand('KTo'),\n",
       " Hand('KTs'),\n",
       " Hand('KJo'),\n",
       " Hand('KJs'),\n",
       " Hand('KQo'),\n",
       " Hand('KQs'),\n",
       " Hand('A2o'),\n",
       " Hand('A2s'),\n",
       " Hand('A3o'),\n",
       " Hand('A3s'),\n",
       " Hand('A4o'),\n",
       " Hand('A4s'),\n",
       " Hand('A5o'),\n",
       " Hand('A5s'),\n",
       " Hand('A6o'),\n",
       " Hand('A6s'),\n",
       " Hand('A7o'),\n",
       " Hand('A7s'),\n",
       " Hand('A8o'),\n",
       " Hand('A8s'),\n",
       " Hand('A9o'),\n",
       " Hand('A9s'),\n",
       " Hand('ATo'),\n",
       " Hand('ATs'),\n",
       " Hand('AJo'),\n",
       " Hand('AJs'),\n",
       " Hand('AQo'),\n",
       " Hand('AQs'),\n",
       " Hand('AKo'),\n",
       " Hand('AKs'),\n",
       " Hand('22'),\n",
       " Hand('33'),\n",
       " Hand('44'),\n",
       " Hand('55'),\n",
       " Hand('66'),\n",
       " Hand('77'),\n",
       " Hand('88'),\n",
       " Hand('99'),\n",
       " Hand('TT'),\n",
       " Hand('JJ'),\n",
       " Hand('QQ'),\n",
       " Hand('KK'),\n",
       " Hand('AA')]"
      ]
     },
     "execution_count": 45,
     "metadata": {},
     "output_type": "execute_result"
    }
   ],
   "source": [
    "from poker.hand import Hand, Combo\n",
    "\n",
    "# list of all hands\n",
    "\n",
    "list(Hand)"
   ]
  },
  {
   "cell_type": "code",
   "execution_count": 59,
   "id": "84d73033",
   "metadata": {},
   "outputs": [
    {
     "data": {
      "text/plain": [
       "False"
      ]
     },
     "execution_count": 59,
     "metadata": {},
     "output_type": "execute_result"
    }
   ],
   "source": [
    "# Hands are comparable\n",
    "\n",
    "#Hand('AAd') > Hand('KK') # this line from the tutorial throws an error\n",
    "Hand('AKo') > Hand('KK') # False\n",
    "Hand('AA') > Hand('KK') # True \n",
    "\n",
    "# Combos are comparable\n",
    "Combo('8d7s') > Combo('8s7d') # False\n",
    "Combo('8d7s') > Combo('8s6d') # True\n",
    "Combo('8d8s') > Combo('8c8d') # True # !!!???\n",
    "Combo('8d8s') > Combo('8c8h') # True # !!!???\n",
    "Combo('8s8d') > Combo('8c8d') # True # !!!???\n",
    "Combo('AdAs') > Combo('KcKd') # True \n",
    "Combo('QdQs') < Combo('JcJd') # False\n",
    "\n"
   ]
  },
  {
   "cell_type": "code",
   "execution_count": 67,
   "id": "0e531520",
   "metadata": {},
   "outputs": [
    {
     "data": {
      "text/plain": [
       "[Combo('7♦6♣'), Combo('7♥6♥'), Combo('2♠2♣'), Combo('A♥A♦')]"
      ]
     },
     "execution_count": 67,
     "metadata": {},
     "output_type": "execute_result"
    }
   ],
   "source": [
    "# sorting Hands\n",
    "sorted([Hand('76o'),Hand('22'),Hand('76s'),Hand('AA')]) # [Hand('76o'), Hand('76s'), Hand('22'), Hand('AA')]\n",
    "\n",
    "# sorting Combos\n",
    "sorted([Combo('7d6c'),Combo('2s2c'),Combo('7h6h'),Combo('AdAh')]) # [Combo('7♦6♣'), Combo('7♥6♥'), Combo('2♠2♣'), Combo('A♥A♦')]"
   ]
  },
  {
   "cell_type": "code",
   "execution_count": 68,
   "id": "d7ef7145",
   "metadata": {},
   "outputs": [
    {
     "data": {
      "text/plain": [
       "Hand('94o')"
      ]
     },
     "execution_count": 68,
     "metadata": {},
     "output_type": "execute_result"
    }
   ],
   "source": [
    "# making a random Hand\n",
    "Hand.make_random()"
   ]
  },
  {
   "cell_type": "code",
   "execution_count": null,
   "id": "32613e1c",
   "metadata": {},
   "outputs": [],
   "source": []
  },
  {
   "cell_type": "code",
   "execution_count": 70,
   "id": "801a85e0",
   "metadata": {},
   "outputs": [
    {
     "ename": "ValueError",
     "evalue": "Length should be 2 (pair) or 3 (hand)",
     "output_type": "error",
     "traceback": [
      "\u001b[1;31m---------------------------------------------------------------------------\u001b[0m",
      "\u001b[1;31mValueError\u001b[0m                                Traceback (most recent call last)",
      "Cell \u001b[1;32mIn[70], line 1\u001b[0m\n\u001b[1;32m----> 1\u001b[0m \u001b[43mHand\u001b[49m\u001b[43m(\u001b[49m\u001b[38;5;124;43m'\u001b[39;49m\u001b[38;5;124;43mAsKsQsJsTs\u001b[39;49m\u001b[38;5;124;43m'\u001b[39;49m\u001b[43m)\u001b[49m\n",
      "File \u001b[1;32m~\\AppData\\Roaming\\Python\\Python310\\site-packages\\poker\\hand.py:93\u001b[0m, in \u001b[0;36mHand.__new__\u001b[1;34m(cls, hand)\u001b[0m\n\u001b[0;32m     90\u001b[0m     \u001b[38;5;28;01mreturn\u001b[39;00m hand\n\u001b[0;32m     92\u001b[0m \u001b[38;5;28;01mif\u001b[39;00m \u001b[38;5;28mlen\u001b[39m(hand) \u001b[38;5;129;01mnot\u001b[39;00m \u001b[38;5;129;01min\u001b[39;00m (\u001b[38;5;241m2\u001b[39m, \u001b[38;5;241m3\u001b[39m):\n\u001b[1;32m---> 93\u001b[0m     \u001b[38;5;28;01mraise\u001b[39;00m \u001b[38;5;167;01mValueError\u001b[39;00m(\u001b[38;5;124m\"\u001b[39m\u001b[38;5;124mLength should be 2 (pair) or 3 (hand)\u001b[39m\u001b[38;5;124m\"\u001b[39m)\n\u001b[0;32m     95\u001b[0m first, second \u001b[38;5;241m=\u001b[39m hand[:\u001b[38;5;241m2\u001b[39m]\n\u001b[0;32m     97\u001b[0m \u001b[38;5;28mself\u001b[39m \u001b[38;5;241m=\u001b[39m \u001b[38;5;28mobject\u001b[39m\u001b[38;5;241m.\u001b[39m\u001b[38;5;21m__new__\u001b[39m(\u001b[38;5;28mcls\u001b[39m)\n",
      "\u001b[1;31mValueError\u001b[0m: Length should be 2 (pair) or 3 (hand)"
     ]
    }
   ],
   "source": [
    "Hand('AsKsQsJsTs')"
   ]
  },
  {
   "cell_type": "markdown",
   "id": "9ea5d8a6",
   "metadata": {},
   "source": [
    "***\n",
    "# Range Parsing\n",
    "[link to documentation](https://poker.readthedocs.io/en/latest/range.html)\n",
    "***"
   ]
  },
  {
   "cell_type": "code",
   "execution_count": null,
   "id": "1b6b522e",
   "metadata": {},
   "outputs": [],
   "source": []
  }
 ],
 "metadata": {
  "kernelspec": {
   "display_name": "Python 3 (ipykernel)",
   "language": "python",
   "name": "python3"
  },
  "language_info": {
   "codemirror_mode": {
    "name": "ipython",
    "version": 3
   },
   "file_extension": ".py",
   "mimetype": "text/x-python",
   "name": "python",
   "nbconvert_exporter": "python",
   "pygments_lexer": "ipython3",
   "version": "3.10.7"
  }
 },
 "nbformat": 4,
 "nbformat_minor": 5
}
