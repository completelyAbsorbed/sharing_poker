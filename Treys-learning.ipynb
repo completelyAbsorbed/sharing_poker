{
 "cells": [
  {
   "cell_type": "markdown",
   "id": "e6e6e895",
   "metadata": {},
   "source": [
    "# Treys - Library Learning - Python\n",
    "[documentation](https://github.com/ihendley/treys)"
   ]
  },
  {
   "cell_type": "markdown",
   "id": "7752c985",
   "metadata": {},
   "source": [
    "## Card"
   ]
  },
  {
   "cell_type": "code",
   "execution_count": 1,
   "id": "f86d6f17",
   "metadata": {},
   "outputs": [],
   "source": [
    "from treys import Card\n",
    "\n",
    "card = Card.new(\"Qh\")"
   ]
  },
  {
   "cell_type": "code",
   "execution_count": 5,
   "id": "9738223f",
   "metadata": {},
   "outputs": [
    {
     "name": "stdout",
     "output_type": "stream",
     "text": [
      "67119647\n"
     ]
    }
   ],
   "source": [
    "print(card)"
   ]
  },
  {
   "cell_type": "code",
   "execution_count": 6,
   "id": "c52786cb",
   "metadata": {},
   "outputs": [],
   "source": [
    "board = [\n",
    "     Card.new('Ah'),\n",
    "     Card.new('Kd'),\n",
    "     Card.new('Jc')\n",
    " ]\n",
    "hand = [\n",
    "    Card.new('Qs'),\n",
    "    Card.new('Th')\n",
    " ]"
   ]
  },
  {
   "cell_type": "code",
   "execution_count": 7,
   "id": "edf3a673",
   "metadata": {},
   "outputs": [
    {
     "name": "stdout",
     "output_type": "stream",
     "text": [
      " [A\u001b[31m♥\u001b[0m],[K\u001b[34m♦\u001b[0m],[J\u001b[32m♣\u001b[0m],[Q♠],[T\u001b[31m♥\u001b[0m] \n"
     ]
    }
   ],
   "source": [
    "Card.print_pretty_cards(board + hand)"
   ]
  },
  {
   "cell_type": "code",
   "execution_count": 9,
   "id": "d363dca1",
   "metadata": {
    "scrolled": true
   },
   "outputs": [
    {
     "name": "stdout",
     "output_type": "stream",
     "text": [
      "1600\n"
     ]
    }
   ],
   "source": [
    "# evaluate hand strength!\n",
    "from treys import Evaluator\n",
    "\n",
    "evaluator = Evaluator()\n",
    "\n",
    "print(evaluator.evaluate(board,hand))"
   ]
  },
  {
   "cell_type": "code",
   "execution_count": 216,
   "id": "28eb05bc",
   "metadata": {},
   "outputs": [
    {
     "name": "stdout",
     "output_type": "stream",
     "text": [
      " [Q\u001b[34m♦\u001b[0m],[6\u001b[34m♦\u001b[0m],[4\u001b[34m♦\u001b[0m],[6\u001b[32m♣\u001b[0m],[3\u001b[32m♣\u001b[0m] \n",
      " [4\u001b[32m♣\u001b[0m],[8\u001b[34m♦\u001b[0m],[8♠],[4\u001b[31m♥\u001b[0m] \n",
      " [K\u001b[34m♦\u001b[0m],[T\u001b[31m♥\u001b[0m],[T\u001b[34m♦\u001b[0m],[J\u001b[31m♥\u001b[0m] \n",
      "player 1 hand score = 295\n",
      "player 1 hand class = Full House\n",
      "**********************************************\n",
      "player 2 hand score = 870\n",
      "player 2 hand class = Flush\n",
      "========== FLOP ==========\n",
      "Player 1 hand = Three of a Kind, percentage rank among all hands = 0.6923076923076923\n",
      "Player 2 hand = Flush, percentage rank among all hands = 0.8834092736531761\n",
      "Player 2 hand is currently winning.\n",
      "\n",
      "========== TURN ==========\n",
      "Player 1 hand = Full House, percentage rank among all hands = 0.9604663629053873\n",
      "Player 2 hand = Flush, percentage rank among all hands = 0.8834092736531761\n",
      "Player 1 hand is currently winning.\n",
      "\n",
      "========== RIVER ==========\n",
      "Player 1 hand = Full House, percentage rank among all hands = 0.9604663629053873\n",
      "Player 2 hand = Flush, percentage rank among all hands = 0.8834092736531761\n",
      "\n",
      "========== HAND OVER ==========\n",
      "Player 1 is the winner with a Full House\n",
      "\n"
     ]
    }
   ],
   "source": [
    "### evaluate hand strength, omaha edition!\n",
    "from treys import PLOEvaluator\n",
    "\n",
    "# initialize the deck\n",
    "deck_omaha = Deck()\n",
    "\n",
    "# create the omaha evaluator\n",
    "evaluator_omaha = PLOEvaluator()\n",
    "\n",
    "# define board\n",
    "board = deck_omaha.draw(5)\n",
    "\n",
    "# define 1st hand\n",
    "hand_1 = deck_omaha.draw(4)\n",
    "\n",
    "# define 2nd hand\n",
    "hand_2 = deck_omaha.draw(4)\n",
    "\n",
    "### print the board and hands\n",
    "Card.print_pretty_cards(board)\n",
    "Card.print_pretty_cards(hand_1)\n",
    "Card.print_pretty_cards(hand_2)\n",
    "\n",
    "# evaluate the hands\n",
    "score_1 = evaluator_omaha.evaluate(hand_1,\n",
    "                                  board)\n",
    "score_2 = evaluator_omaha.evaluate(hand_2,\n",
    "                                  board)\n",
    "class_1 = evaluator_omaha.get_rank_class(score_1)\n",
    "class_2 = evaluator_omaha.get_rank_class(score_2)\n",
    "\n",
    "\n",
    "# print the evaluations\n",
    "print(f\"player 1 hand score = {score_1}\")\n",
    "print(f\"player 1 hand class = {evaluator_omaha.class_to_string(class_1)}\")\n",
    "print(\"**********************************************\")\n",
    "print(f\"player 2 hand score = {score_2}\")\n",
    "print(f\"player 2 hand class = {evaluator_omaha.class_to_string(class_2)}\")\n",
    "\n",
    "# summarize the hand!\n",
    "hands = [hand_1,\n",
    "        hand_2]\n",
    "evaluator_omaha.hand_summary(board,\n",
    "                            hands)"
   ]
  },
  {
   "cell_type": "code",
   "execution_count": 65,
   "id": "a4c70d32",
   "metadata": {},
   "outputs": [
    {
     "name": "stdout",
     "output_type": "stream",
     "text": [
      "[67144223, 8423187, 8398611, 139523]\n"
     ]
    }
   ],
   "source": [
    "print(hand_1)"
   ]
  },
  {
   "cell_type": "markdown",
   "id": "6c5c140f",
   "metadata": {},
   "source": [
    "## Deck"
   ]
  },
  {
   "cell_type": "code",
   "execution_count": 54,
   "id": "a8d7006d",
   "metadata": {},
   "outputs": [
    {
     "name": "stdout",
     "output_type": "stream",
     "text": [
      " [5\u001b[32m♣\u001b[0m],[J♠],[9\u001b[31m♥\u001b[0m],[6\u001b[32m♣\u001b[0m],[8\u001b[31m♥\u001b[0m] \n",
      " [5\u001b[34m♦\u001b[0m],[8\u001b[34m♦\u001b[0m] \n",
      " [7\u001b[34m♦\u001b[0m],[8\u001b[32m♣\u001b[0m] \n"
     ]
    }
   ],
   "source": [
    "from treys import Deck\n",
    "\n",
    "# initialize a deck\n",
    "deck = Deck()\n",
    "\n",
    "# define a board (flop+turn+river)\n",
    "board = deck.draw(5)\n",
    "\n",
    "# define hand player 1 hold-em\n",
    "hand_1 = deck.draw(2)\n",
    "\n",
    "# define hand player 2 hold-em\n",
    "hand_2 = deck.draw(2)\n",
    "\n",
    "### print the board and hands\n",
    "Card.print_pretty_cards(board)\n",
    "Card.print_pretty_cards(hand_1)\n",
    "Card.print_pretty_cards(hand_2)\n",
    "# this doesn't work # print_board = Card.print_pretty_cards(board)"
   ]
  },
  {
   "cell_type": "markdown",
   "id": "27fea11c",
   "metadata": {},
   "source": [
    "***\n",
    "# Functions\n",
    "***"
   ]
  },
  {
   "cell_type": "code",
   "execution_count": null,
   "id": "48233536",
   "metadata": {},
   "outputs": [],
   "source": [
    "# function skeleton # delete this line #\n",
    "# what does the function do?\n",
    "def simulate_game_tx() : \n",
    "    \"\"\"\n",
    "    what does the function do, in depth\n",
    "    \n",
    "        Parameters:\n",
    "            (... {variable name} (type) : ... [description]) or <NA>\n",
    "        \n",
    "        Returns:\n",
    "            (... {variable name} (type) : ... [description]) or <NA>\n",
    "            \n",
    "        References:\n",
    "            ... {link or other references}\n",
    "    \"\"\"\n",
    "    # ...\n",
    "    \n",
    "    # return ..."
   ]
  },
  {
   "cell_type": "code",
   "execution_count": 23,
   "id": "f7ef89f2",
   "metadata": {},
   "outputs": [],
   "source": [
    "# index into a list based on a list of indices\n",
    "def sub_list(list_major,\n",
    "            list_indices) :\n",
    "    \"\"\"\n",
    "    derive a sublist of list based on a list of indices\n",
    "    \n",
    "        Parameters:\n",
    "            list_major (list) : a list of elements to be sublisted\n",
    "            list_indices (list - int) : a list of integers representing the indices to be sublisted\n",
    "        \n",
    "        Returns:\n",
    "            sublist (list) : a sublist of the list\n",
    "            \n",
    "        References:\n",
    "            https://www.geeksforgeeks.org/python-accessing-all-elements-at-given-list-of-indexes/\n",
    "    \"\"\"\n",
    "    # derive the sublist\n",
    "    sublist = [list_major[index] for index in list_indices]\n",
    "    return(sublist)\n",
    "    \n",
    "   "
   ]
  },
  {
   "cell_type": "code",
   "execution_count": 14,
   "id": "85d5e040",
   "metadata": {},
   "outputs": [],
   "source": [
    "# derive the winner of a hand based on the score (1 to 7462) (lower is higher, ie 1 corresponds to royal flush)\n",
    "def determine_winner(scores) : \n",
    "    \"\"\"\n",
    "    Determine the winner(s) of a list of hand strengths based on treys package Evaluator \n",
    "        (1 best : royal flush)\n",
    "        (7462 worst : 75432o)\n",
    "    \n",
    "        Parameters:\n",
    "            scores (list - int) : a list of integers representing the scores to be compared\n",
    "        \n",
    "        Returns:\n",
    "            winners (list - int) : a list of integers representing the indices of the winner(s)\n",
    "            \n",
    "        References:\n",
    "            https://github.com/ihendley/treys\n",
    "            https://stackoverflow.com/questions/7270321/finding-the-index-of-elements-based-on-a-condition-using-python-list-comprehensi\n",
    "    \"\"\"\n",
    "    # derive the best score\n",
    "    best_scores = min(scores)\n",
    "    # derive the indices of the winners of the hand\n",
    "    winners = [index for index in range(len(scores)) if scores[index] == best_scores]\n",
    "    \n",
    "    return winners"
   ]
  },
  {
   "cell_type": "code",
   "execution_count": 237,
   "id": "6ef552a0",
   "metadata": {},
   "outputs": [],
   "source": [
    "# simulate a single hand of texas hold-em 1-on-1\n",
    "def simulate_game_tx() : \n",
    "    \"\"\"\n",
    "    simulate a single hand of texas hold-em 1-on-1 and return the result, and the starting hands\n",
    "    \n",
    "        Parameters:\n",
    "            <NA>\n",
    "        \n",
    "        Returns:\n",
    "            [result, hands] : ...\n",
    "            result (int) : an integer signifying the result of the game...\n",
    "                            -1 : player_2 won\n",
    "                            ~0 : split pot (draw)\n",
    "                            +1 : player_1 won\n",
    "            hands (list - list - Card) : list of lists of Cards...\n",
    "                            [1st list] : player_1 hole cards\n",
    "                            [2nd list] : player_2 hole cards\n",
    "            \n",
    "        References:\n",
    "            ...\n",
    "    \"\"\"\n",
    "    # initialize the deck\n",
    "    deck = Deck()\n",
    "\n",
    "    # evaluator should already have been created outside of this function\n",
    "\n",
    "    # define 1st hand\n",
    "    hand_1 = deck.draw(2)\n",
    "\n",
    "    # define 2nd hand\n",
    "    hand_2 = deck.draw(2)\n",
    "    \n",
    "    # define board\n",
    "    board = deck.draw(5)\n",
    "    \n",
    "    # evaluate the hand\n",
    "    score_1 = evaluator.evaluate(hand_1,\n",
    "                                 board)\n",
    "    score_2 = evaluator.evaluate(hand_2,\n",
    "                                 board)\n",
    "    \n",
    "    ########################################################################################################\n",
    "    # print out hand facts # comment these out when confirmed working # retain commented code for testing #\n",
    "    #Card.print_pretty_cards(board)\n",
    "    #Card.print_pretty_cards(hand_1)\n",
    "    #Card.print_pretty_cards(hand_2)\n",
    "    #class_1 = evaluator.get_rank_class(score_1)\n",
    "    #class_2 = evaluator.get_rank_class(score_2)\n",
    "    #\n",
    "    # print the evaluations\n",
    "    #print(f\"player 1 hand score = {score_1}\")\n",
    "    #print(f\"player 1 hand class = {evaluator.class_to_string(class_1)}\")\n",
    "    #print(\"**********************************************\")\n",
    "    #print(f\"player 2 hand score = {score_2}\")\n",
    "    #print(f\"player 2 hand class = {evaluator.class_to_string(class_2)}\")\n",
    "    #\n",
    "    # summarize the hand!\n",
    "    #hands = [hand_1,\n",
    "    #         hand_2]\n",
    "    #evaluator.hand_summary(board,\n",
    "    #                       hands)\n",
    "    ########################################################################################################\n",
    "    \n",
    "    # derive result\n",
    "    if score_1 < score_2:\n",
    "        result = 1\n",
    "    elif score_1 > score_2:\n",
    "        result = -1\n",
    "    elif score_1 == score_2:\n",
    "        result = 0\n",
    "    else: \n",
    "        result = \"whoops!\" # this shouldn't happen!\n",
    "    \n",
    "    # prepare information for return\n",
    "    hands = [hand_1,\n",
    "            hand_2]\n",
    "    package_return = [result,\n",
    "                     hands]\n",
    "    \n",
    "    return package_return # can/should this return the two objects instead?"
   ]
  },
  {
   "cell_type": "code",
   "execution_count": 241,
   "id": "8c19607b",
   "metadata": {},
   "outputs": [],
   "source": [
    "import time # do this somewhere else in a production script\n",
    "\n",
    "# simulate and record the amount of time it takes to simulate n games of texas hold-em 1-on-1\n",
    "def time_texas(n) : \n",
    "    \"\"\"\n",
    "    simulate and record the amount of time it takes to simulate n games of texas hold-em 1-on-1\n",
    "    \n",
    "        Parameters:\n",
    "            n (int) : how many times to run the function\n",
    "        \n",
    "        Returns:\n",
    "            time_elapsed (float) : how many seconds elapsed during simulation\n",
    "            \n",
    "        References:\n",
    "            https://github.com/ihendley/treys/blob/master/perf.py\n",
    "    \"\"\"    \n",
    "    \n",
    "    time_start = time.time()\n",
    "    \n",
    "    for i in range(n):\n",
    "        simulate_game_tx()\n",
    "    \n",
    "    time_end = time.time()\n",
    "    \n",
    "    time_elapsed = time_end - time_start    \n",
    "    \n",
    "    return time_elapsed"
   ]
  },
  {
   "cell_type": "code",
   "execution_count": null,
   "id": "34fcef8e",
   "metadata": {},
   "outputs": [],
   "source": []
  },
  {
   "cell_type": "markdown",
   "id": "7ab921c4",
   "metadata": {},
   "source": [
    "***\n",
    "# Testing\n",
    "***"
   ]
  },
  {
   "cell_type": "code",
   "execution_count": null,
   "id": "6f642621",
   "metadata": {},
   "outputs": [],
   "source": []
  },
  {
   "cell_type": "code",
   "execution_count": null,
   "id": "5ba7efee",
   "metadata": {},
   "outputs": [],
   "source": []
  },
  {
   "cell_type": "code",
   "execution_count": null,
   "id": "1ab65249",
   "metadata": {},
   "outputs": [],
   "source": []
  },
  {
   "cell_type": "code",
   "execution_count": null,
   "id": "c0dd39b7",
   "metadata": {},
   "outputs": [],
   "source": []
  },
  {
   "cell_type": "code",
   "execution_count": null,
   "id": "ce1b6b20",
   "metadata": {},
   "outputs": [],
   "source": []
  },
  {
   "cell_type": "code",
   "execution_count": 231,
   "id": "6d02e6af",
   "metadata": {
    "scrolled": true
   },
   "outputs": [
    {
     "name": "stdout",
     "output_type": "stream",
     "text": [
      " [7\u001b[34m♦\u001b[0m],[K\u001b[34m♦\u001b[0m],[8♠],[9♠],[K\u001b[32m♣\u001b[0m] \n",
      " [2\u001b[31m♥\u001b[0m],[4\u001b[32m♣\u001b[0m] \n",
      " [A\u001b[32m♣\u001b[0m],[A\u001b[31m♥\u001b[0m] \n",
      "player 1 hand score = 3710\n",
      "player 1 hand class = Pair\n",
      "**********************************************\n",
      "player 2 hand score = 2471\n",
      "player 2 hand class = Two Pair\n",
      "========== FLOP ==========\n",
      "Player 1 hand = High Card, percentage rank among all hands = 0.06445993031358888\n",
      "Player 2 hand = Pair, percentage rank among all hands = 0.549718574108818\n",
      "Player 2 hand is currently winning.\n",
      "\n",
      "========== TURN ==========\n",
      "Player 1 hand = High Card, percentage rank among all hands = 0.06995443580809435\n",
      "Player 2 hand = Pair, percentage rank among all hands = 0.550656660412758\n",
      "Player 2 hand is currently winning.\n",
      "\n",
      "========== RIVER ==========\n",
      "Player 1 hand = Pair, percentage rank among all hands = 0.5028142589118199\n",
      "Player 2 hand = Two Pair, percentage rank among all hands = 0.6688555347091932\n",
      "\n",
      "========== HAND OVER ==========\n",
      "Player 2 is the winner with a Two Pair\n",
      "\n"
     ]
    },
    {
     "data": {
      "text/plain": [
       "[-1, [[73730, 295429], [268471337, 268446761]]]"
      ]
     },
     "execution_count": 231,
     "metadata": {},
     "output_type": "execute_result"
    }
   ],
   "source": [
    "simulate_game_tx()"
   ]
  },
  {
   "cell_type": "code",
   "execution_count": null,
   "id": "5dda3253",
   "metadata": {},
   "outputs": [],
   "source": []
  },
  {
   "cell_type": "code",
   "execution_count": null,
   "id": "db2100a9",
   "metadata": {},
   "outputs": [],
   "source": []
  },
  {
   "cell_type": "code",
   "execution_count": null,
   "id": "e8d3225a",
   "metadata": {},
   "outputs": [],
   "source": []
  },
  {
   "cell_type": "code",
   "execution_count": null,
   "id": "bca662e5",
   "metadata": {},
   "outputs": [],
   "source": []
  },
  {
   "cell_type": "code",
   "execution_count": null,
   "id": "a0ac58b2",
   "metadata": {},
   "outputs": [],
   "source": []
  },
  {
   "cell_type": "code",
   "execution_count": null,
   "id": "e91d0488",
   "metadata": {},
   "outputs": [],
   "source": []
  },
  {
   "cell_type": "code",
   "execution_count": null,
   "id": "49017a5f",
   "metadata": {},
   "outputs": [],
   "source": []
  },
  {
   "cell_type": "markdown",
   "id": "c49cb36f",
   "metadata": {},
   "source": [
    "***\n",
    "# Examples\n",
    "***"
   ]
  },
  {
   "cell_type": "code",
   "execution_count": 40,
   "id": "bb4e4e87",
   "metadata": {},
   "outputs": [
    {
     "name": "stdout",
     "output_type": "stream",
     "text": [
      "[1, 3, 5, 7, 9]\n",
      "[10]\n"
     ]
    }
   ],
   "source": [
    "# test sub_list() for multiple elements\n",
    "list_main = [1,2,3,4,5,6,7,8,9,10]\n",
    "list_pull = [0,2,4,6,8]\n",
    "\n",
    "print(sub_list(list_major = list_main,\n",
    "              list_indices = list_pull))\n",
    "\n",
    "# test sub_list() for a single element\n",
    "list_main = [1,2,3,4,5,6,7,8,9,10]\n",
    "list_pull = [9]\n",
    "\n",
    "print(sub_list(list_major = list_main,\n",
    "              list_indices = list_pull))\n"
   ]
  },
  {
   "cell_type": "code",
   "execution_count": 41,
   "id": "8e746456",
   "metadata": {},
   "outputs": [
    {
     "name": "stdout",
     "output_type": "stream",
     "text": [
      "[0, 3]\n",
      "[2, 2]\n",
      "[3]\n",
      "[1]\n"
     ]
    }
   ],
   "source": [
    "# test the determine_winner() function\n",
    "\n",
    "### multiple winners\n",
    "\n",
    "# define the hand scores\n",
    "scored_hands = [2,14,16,2,223]\n",
    "\n",
    "# derive the indices of the winners\n",
    "winners = determine_winner(scored_hands)\n",
    "\n",
    "# print the indices of the winners\n",
    "print(winners)\n",
    "\n",
    "# derive the winning score(s)\n",
    "scores_winning = sub_list(list_major = scored_hands,\n",
    "                         list_indices = winners)\n",
    "\n",
    "# print the winning score(s)\n",
    "print(scores_winning)\n",
    "\n",
    "### single winner\n",
    "\n",
    "# define the hand scores\n",
    "scored_hands = [12,14,16,1,223]\n",
    "\n",
    "# derive the indices of the winners\n",
    "winners = determine_winner(scored_hands)\n",
    "\n",
    "# print the indices of the winners\n",
    "print(winners)\n",
    "\n",
    "# derive the winning score(s)\n",
    "scores_winning = sub_list(list_major = scored_hands,\n",
    "                         list_indices = winners)\n",
    "\n",
    "# print the winning score(s)\n",
    "print(scores_winning)"
   ]
  },
  {
   "cell_type": "code",
   "execution_count": 42,
   "id": "2ac68089",
   "metadata": {},
   "outputs": [
    {
     "name": "stdout",
     "output_type": "stream",
     "text": [
      "7462\n",
      "1\n"
     ]
    }
   ],
   "source": [
    "### determine the minimum (23457o) and maximum (royal flush) scores\n",
    "\n",
    "# minimum(23457o) # score = 7462\n",
    "board = [\n",
    "     Card.new('2h'),\n",
    "     Card.new('3d'),\n",
    "     Card.new('4c')\n",
    " ]\n",
    "hand = [\n",
    "    Card.new('5s'),\n",
    "    Card.new('7h')\n",
    " ]\n",
    "\n",
    "print(evaluator.evaluate(board,hand))\n",
    "\n",
    "# maximum(royal flush) # score = 1\n",
    "board = [\n",
    "     Card.new('Ah'),\n",
    "     Card.new('Kh'),\n",
    "     Card.new('Qh')\n",
    " ]\n",
    "hand = [\n",
    "    Card.new('Jh'),\n",
    "    Card.new('Th')\n",
    " ]\n",
    "\n",
    "print(evaluator.evaluate(board,hand))"
   ]
  },
  {
   "cell_type": "code",
   "execution_count": 57,
   "id": "514d71fd",
   "metadata": {},
   "outputs": [
    {
     "name": "stdout",
     "output_type": "stream",
     "text": [
      " [8\u001b[34m♦\u001b[0m],[9\u001b[32m♣\u001b[0m],[5♠],[3♠],[J\u001b[31m♥\u001b[0m] \n",
      " [K\u001b[31m♥\u001b[0m],[A\u001b[34m♦\u001b[0m] \n",
      " [4♠],[8♠] \n",
      "========== FLOP ==========\n",
      "Player 1 hand = High Card, percentage rank among all hands = 0.1562583757705709\n",
      "Player 2 hand = Pair, percentage rank among all hands = 0.35138032699008304\n",
      "Player 2 hand is currently winning.\n",
      "\n",
      "========== TURN ==========\n",
      "Player 1 hand = High Card, percentage rank among all hands = 0.1562583757705709\n",
      "Player 2 hand = Pair, percentage rank among all hands = 0.35138032699008304\n",
      "Player 2 hand is currently winning.\n",
      "\n",
      "========== RIVER ==========\n",
      "Player 1 hand = High Card, percentage rank among all hands = 0.16403109086035916\n",
      "Player 2 hand = Pair, percentage rank among all hands = 0.35794693111766285\n",
      "\n",
      "========== HAND OVER ==========\n",
      "Player 2 is the winner with a Pair\n",
      "\n"
     ]
    }
   ],
   "source": [
    "### simulate and evaluate a heads-up texas hold-em runout\n",
    "\n",
    "# initialize a deck\n",
    "deck = Deck()\n",
    "\n",
    "# define a board (flop+turn+river)\n",
    "board = deck.draw(5)\n",
    "\n",
    "# define hand player 1 hold-em\n",
    "hand_1 = deck.draw(2)\n",
    "\n",
    "# define hand player 2 hold-em\n",
    "hand_2 = deck.draw(2)\n",
    "\n",
    "# print the board and hands\n",
    "Card.print_pretty_cards(board)\n",
    "Card.print_pretty_cards(hand_1)\n",
    "Card.print_pretty_cards(hand_2)\n",
    "\n",
    "# evaluate the hands \n",
    "hands = [hand_1, hand_2]\n",
    "evaluator.hand_summary(board,\n",
    "                      hands)"
   ]
  },
  {
   "cell_type": "code",
   "execution_count": 243,
   "id": "0b69aeb1",
   "metadata": {},
   "outputs": [
    {
     "name": "stdout",
     "output_type": "stream",
     "text": [
      "time to run 1000 simulations = 0.09557175636291504 seconds\n",
      "time to run 10000 simulations = 1.1473805904388428 seconds\n",
      "time to run 100000 simulations = 9.808725357055664 seconds\n",
      "time to run 1000000 simulations = 100.44090557098389 seconds\n"
     ]
    }
   ],
   "source": [
    "### how long does it take to run n = ... 1v1 texas hold-em simulations?\n",
    "\n",
    "# n = 1000\n",
    "times = 1000\n",
    "time_simulations = time_texas(n = times)\n",
    "print(f\"time to run {times} simulations = {time_simulations} seconds\") # 0.09\n",
    "\n",
    "# n = 10000\n",
    "times = 10000\n",
    "time_simulations = time_texas(n = times)\n",
    "print(f\"time to run {times} simulations = {time_simulations} seconds\") # 1.19\n",
    "\n",
    "# n = 100000\n",
    "times = 100000\n",
    "time_simulations = time_texas(n = times)\n",
    "print(f\"time to run {times} simulations = {time_simulations} seconds\") # 9.81\n",
    "\n",
    "# n = 1000000\n",
    "times = 1000000\n",
    "time_simulations = time_texas(n = times)\n",
    "print(f\"time to run {times} simulations = {time_simulations} seconds\") # 100.44\n",
    "\n",
    "\n"
   ]
  },
  {
   "cell_type": "code",
   "execution_count": null,
   "id": "08b1ed8d",
   "metadata": {},
   "outputs": [],
   "source": []
  },
  {
   "cell_type": "code",
   "execution_count": null,
   "id": "03750c5d",
   "metadata": {},
   "outputs": [],
   "source": []
  },
  {
   "cell_type": "code",
   "execution_count": null,
   "id": "c1e0d366",
   "metadata": {},
   "outputs": [],
   "source": []
  }
 ],
 "metadata": {
  "kernelspec": {
   "display_name": "Python 3 (ipykernel)",
   "language": "python",
   "name": "python3"
  },
  "language_info": {
   "codemirror_mode": {
    "name": "ipython",
    "version": 3
   },
   "file_extension": ".py",
   "mimetype": "text/x-python",
   "name": "python",
   "nbconvert_exporter": "python",
   "pygments_lexer": "ipython3",
   "version": "3.10.7"
  }
 },
 "nbformat": 4,
 "nbformat_minor": 5
}
